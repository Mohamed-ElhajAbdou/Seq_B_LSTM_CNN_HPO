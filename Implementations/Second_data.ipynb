{
 "cells": [
  {
   "cell_type": "code",
   "execution_count": 4,
   "metadata": {},
   "outputs": [],
   "source": [
    "#!/usr/bin/env python\n",
    "#This script is used to generate training and testing datasets.\n",
    "import click as ck\n",
    "import numpy as np\n",
    "import pandas as pd\n",
    "from collections import Counter\n",
    "from utils import Ontology, FUNC_DICT\n",
    "import logging\n",
    "\n",
    "logging.basicConfig(level=logging.INFO)\n"
   ]
  },
  {
   "cell_type": "code",
   "execution_count": 5,
   "metadata": {},
   "outputs": [],
   "source": [
    "# #هنأجلها شوية \n",
    "# prot2gene = []\n",
    "# prot2gene_dict={}\n",
    "# with open('data/gene_annotations_all_test.tab') as f:\n",
    "#     for line in f:    \n",
    "#         it = line.split('\\t')\n",
    "#         prot2gene.append(it)\n",
    "# #         print ('bnjjh',line)\n",
    "# #         print ( 'it',it[1:9])\n",
    "# # for i in  range (0,len(prot2gene) ):\n",
    "# for i in  range (0,1 ):\n",
    "\n",
    "#     element=prot2gene[i]\n",
    "#     length=len (element)\n",
    "#     print (length , i )\n",
    "#     print (prot2gene[0][i])\n",
    "#     restof=prot2gene[i][1:length]\n",
    "#     print ( restof)\n",
    "# #     print ( prot2gene[i][1:len(prot2gene[i])])\n",
    "#     prot2gene_dict[prot2gene[i][1:length]] = prot2gene[0][i]\n",
    "    \n",
    "# # print ( prot2gene[0][1:len(prot2gene[0])])\n",
    "# # print ( len(prot2gene[0]))"
   ]
  },
  {
   "cell_type": "code",
   "execution_count": null,
   "metadata": {},
   "outputs": [],
   "source": []
  },
  {
   "cell_type": "code",
   "execution_count": 7,
   "metadata": {},
   "outputs": [
    {
     "name": "stdout",
     "output_type": "stream",
     "text": [
      "HP loaded\n",
      "Load Gene2prot mapping\n",
      "Loading HP annotations\n",
      "8\n",
      "{'HP:0031065': 'ZSCA1_HUMAN', 'HP:0002011': 'ZSCA1_HUMAN', 'HP:0007370': 'ZSC12_HUMAN', 'HP:0007364': 'ZY11A_HUMAN', 'HP:0000252': '1433B_HUMAN', 'HP:0002977': 'ZY11A_HUMAN', 'HP:0002921': 'ZSC25_HUMAN', 'HP:0012639': '1A02_HUMAN'}\n"
     ]
    }
   ],
   "source": [
    "go = Ontology('data/go.obo', with_rels=True)\n",
    "# print('GO loaded')\n",
    "hp = Ontology('data/hp.obo', with_rels=True)\n",
    "print('HP loaded')\n",
    "print('Load Gene2prot mapping')\n",
    "df = pd.read_pickle('data/swissprot.pkl')\n",
    "prot2gene = {}\n",
    "with open('data/gene_annotations_all_test.tab') as f:\n",
    "# with open('data/phenotype_annotation.tab') as f:\n",
    "# with open('data/human_2.res') as f:\n",
    "        next(f)\n",
    "        for line in f:\n",
    "#             print ( line )ZSC12_HUMAN\n",
    "#             it = line.strip().split('\\t')\n",
    "            it = line.split('\\t')\n",
    "            \n",
    "#             print ( it)\n",
    "#             print ( prot2gene[it[2]] ,it[0])\n",
    "\n",
    "            prot2gene[it[2]] = it[0]\n",
    "\n",
    "\n",
    "          \n",
    "#             print ('ettttttjj________________________________', prot2gene)\n",
    "#         print ( prot2gene)\n",
    "#     for row in df.itertuples():\n",
    "#         if row.genes != '':\n",
    "#             prot2gene[row.proteins] = row.genes\n",
    "# print ('-_-ccccccccccccccccccc',it[0])\n",
    "print('Loading HP annotations')\n",
    "print ( len(prot2gene))\n",
    "print ( prot2gene)\n",
    "# print ( )"
   ]
  },
  {
   "cell_type": "code",
   "execution_count": 125,
   "metadata": {},
   "outputs": [
    {
     "data": {
      "text/plain": [
       "{1: 2}"
      ]
     },
     "execution_count": 125,
     "metadata": {},
     "output_type": "execute_result"
    }
   ],
   "source": [
    "# import itertools\n",
    "\n",
    "# d = {1: 2, 3: 4, 5: 6}\n",
    "\n",
    "# dict(itertools.islice(d.items(), 1))"
   ]
  },
  {
   "cell_type": "code",
   "execution_count": 65,
   "metadata": {},
   "outputs": [
    {
     "name": "stdout",
     "output_type": "stream",
     "text": [
      "Hello  world\n",
      "['Hello  world']\n"
     ]
    }
   ],
   "source": [
    "string = \"Hello  world\"\n",
    "print(string)\n",
    " \n",
    " \n",
    "string = string.strip().split('\\t')\n",
    "print(string)\n"
   ]
  },
  {
   "cell_type": "code",
   "execution_count": 60,
   "metadata": {},
   "outputs": [
    {
     "name": "stdout",
     "output_type": "stream",
     "text": [
      "hello\tsdere\n"
     ]
    }
   ],
   "source": [
    "# predictions = pd.read_pickle('data/new/swissprot.pkl')\n",
    "# predictions\n",
    "print(\"hello\\tsdere\")"
   ]
  },
  {
   "cell_type": "code",
   "execution_count": 42,
   "metadata": {},
   "outputs": [],
   "source": [
    "# predictions = pd.read_pickle('data/new/swissprot_new.pkl')\n",
    "# predictions\n"
   ]
  },
  {
   "cell_type": "code",
   "execution_count": 43,
   "metadata": {},
   "outputs": [],
   "source": [
    "# gos = pd.read_pickle('data/new/gos.pkl')\n",
    "# gos\n"
   ]
  },
  {
   "cell_type": "code",
   "execution_count": 8,
   "metadata": {},
   "outputs": [
    {
     "name": "stdout",
     "output_type": "stream",
     "text": [
      "HP Annotations 4073 total_annots 529475 129.99631721090105\n"
     ]
    }
   ],
   "source": [
    "hp_annots = {}\n",
    "\n",
    "# with open('data/ALL_SOURCES_ALL_FREQUENCIES_phenotype_to_genes.txt') as f:\n",
    "\n",
    "with open('data/ALL_SOURCES_ALL_FREQUENCIES_genes_to_phenotype.txt') as f:\n",
    "        next(f)\n",
    "        for line in f:\n",
    "            it = line.strip().split('\\t')\n",
    "            gene_id = it[0]\n",
    "            hp_id = it[3]\n",
    "            if gene_id not in hp_annots:\n",
    "                hp_annots[gene_id] = set()\n",
    "            if hp.has_term(hp_id):\n",
    "                hp_annots[gene_id] |= hp.get_anchestors(hp_id)\n",
    "#     print ( gene_id)            \n",
    "# print ('gene_ids__________________________', gene_id)            \n",
    "total_annots = 0\n",
    "for g_id, annots in hp_annots.items():\n",
    "        annots.discard('HP:0000001')\n",
    "        total_annots += len(annots)\n",
    "print('HP Annotations', len(hp_annots),'total_annots', total_annots, (total_annots / len(hp_annots)))\n",
    "# print ( type(hp_annots))\n",
    "# print ( type(total_annots))\n",
    "\n",
    "# hp_annots_df=list ( hp_annots)\n",
    "# print ( type(hp_annots_df))\n",
    "# print (total_annots)"
   ]
  },
  {
   "cell_type": "code",
   "execution_count": 45,
   "metadata": {},
   "outputs": [],
   "source": [
    "# x=open('data/train_data.dmnd')\n",
    "# print (x)"
   ]
  },
  {
   "cell_type": "code",
   "execution_count": 46,
   "metadata": {},
   "outputs": [],
   "source": [
    "# print(prot2gene)\n",
    "# g= 'HP:0000252'\n",
    "# if g not in prot2gene:\n",
    "#     print ( 'No')\n",
    "# else :\n",
    "#     print ( 'Yes')"
   ]
  },
  {
   "cell_type": "code",
   "execution_count": null,
   "metadata": {},
   "outputs": [],
   "source": []
  },
  {
   "cell_type": "code",
   "execution_count": 9,
   "metadata": {},
   "outputs": [
    {
     "name": "stdout",
     "output_type": "stream",
     "text": [
      "ggggggg ZY11A_HUMAN\n",
      "DeepGO Annotations 1\n"
     ]
    }
   ],
   "source": [
    "\n",
    "dg_annots = {}\n",
    "gos = set()\n",
    "with open('data/human_2.res') as f:\n",
    "        for line in f:\n",
    "            it = line.strip().split('\\t')\n",
    "#             print( 'YES_first ')\n",
    "#             it[0] ='128UP_DROME'\n",
    "            if it[0] not in prot2gene:\n",
    "#                 print( 'YES_second ',it[0])\n",
    "                continue\n",
    "            gene_id = prot2gene[it[0]]\n",
    "            print ( 'ggggggg',gene_id)\n",
    "            annots = dg_annots.get(gene_id, {})\n",
    "#             print ( 'wfwefwfwfwfwf',annots)\n",
    "            for item in it[1:]:\n",
    "                go_id, score = item.split('|')\n",
    "                score = float(score)\n",
    "                annots[go_id] = max(score, annots.get(go_id, 0))\n",
    "#                 print( 'we are here ____3',annots[go_id])\n",
    "            dg_annots[gene_id] = annots\n",
    "            gos |= set(annots.keys())\n",
    "#         print ('annots___________-------------------------------' ,annots)\n",
    "print('DeepGO Annotations', len(dg_annots))\n",
    "# print ( dg_annots)\n",
    "# released[\"iphone 5S\"] = 2013"
   ]
  },
  {
   "cell_type": "code",
   "execution_count": 7,
   "metadata": {},
   "outputs": [
    {
     "name": "stdout",
     "output_type": "stream",
     "text": [
      "{'1A24_HUMAN': {'GO:0000209': 0.512, 'GO:0003674': 0.935, 'GO:0003824': 0.935, 'GO:0004842': 0.517, 'GO:0005575': 0.865, 'GO:0005622': 0.843, 'GO:0005623': 0.843, 'GO:0005737': 0.751, 'GO:0005829': 0.628, 'GO:0006464': 0.775, 'GO:0006807': 0.928, 'GO:0008150': 0.977, 'GO:0008152': 0.977, 'GO:0009987': 0.963, 'GO:0016567': 0.531, 'GO:0016740': 0.762, 'GO:0019538': 0.841, 'GO:0019787': 0.517, 'GO:0032446': 0.546, 'GO:0036211': 0.783, 'GO:0043170': 0.886, 'GO:0043412': 0.783, 'GO:0043687': 0.519, 'GO:0044237': 0.963, 'GO:0044238': 0.95, 'GO:0044260': 0.84, 'GO:0044267': 0.791, 'GO:0044424': 0.833, 'GO:0044444': 0.692, 'GO:0044464': 0.843, 'GO:0070647': 0.573, 'GO:0071704': 0.968, 'GO:0140096': 0.679, 'GO:1901564': 0.902, 'GO:0005488': 0.139, 'GO:0036094': 0.019, 'GO:1901363': 0.019, 'GO:0097367': 0.006, 'GO:1901265': 0.009, 'GO:0000166': 0.009, 'GO:0043167': 0.029, 'GO:0043168': 0.011, 'GO:0097159': 0.025, 'GO:0043226': 0.192, 'GO:0043229': 0.192, 'GO:0043231': 0.192, 'GO:0043227': 0.192, 'GO:0032502': 0.025, 'GO:0048856': 0.022, 'GO:0007275': 0.021, 'GO:0032501': 0.029, 'GO:0042221': 0.02, 'GO:0071310': 0.01, 'GO:0008144': 0.005, 'GO:0071944': 0.029, 'GO:0051716': 0.062, 'GO:0005739': 0.02, 'GO:0023052': 0.026, 'GO:0065007': 0.177, 'GO:1901700': 0.005, 'GO:0016020': 0.029, 'GO:0050794': 0.11, 'GO:0007165': 0.022, 'GO:0050896': 0.083, 'GO:0010033': 0.012, 'GO:0050789': 0.145, 'GO:0007154': 0.037, 'GO:0005886': 0.029, 'GO:0070887': 0.018, 'GO:0019899': 0.021, 'GO:0005515': 0.065, 'GO:0019222': 0.101, 'GO:0033036': 0.007, 'GO:0009790': 0.007, 'GO:0051641': 0.007, 'GO:0019953': 0.006, 'GO:0006810': 0.008, 'GO:0016043': 0.04, 'GO:0009628': 0.009, 'GO:0051179': 0.014, 'GO:0006996': 0.019, 'GO:0071840': 0.04, 'GO:0000003': 0.013, 'GO:0008104': 0.005, 'GO:0048869': 0.008, 'GO:0051726': 0.007, 'GO:0051234': 0.008, 'GO:0005634': 0.068, 'GO:0051704': 0.021, 'GO:0030154': 0.007, 'GO:0044703': 0.007, 'GO:0022414': 0.012, 'GO:0006950': 0.047, 'GO:0060255': 0.062, 'GO:0010467': 0.033, 'GO:0003676': 0.008, 'GO:0010468': 0.015, 'GO:0044877': 0.005, 'GO:0044446': 0.042, 'GO:0031090': 0.007, 'GO:0005773': 0.036, 'GO:0012505': 0.029, 'GO:0044422': 0.043, 'GO:0048519': 0.042, 'GO:0065008': 0.022, 'GO:0009991': 0.008, 'GO:0033554': 0.025, 'GO:0031667': 0.008, 'GO:0009605': 0.012, 'GO:1901565': 0.115, 'GO:1901575': 0.133, 'GO:0048518': 0.039, 'GO:0010604': 0.011, 'GO:0009607': 0.005, 'GO:0009894': 0.011, 'GO:0051246': 0.034, 'GO:0030163': 0.046, 'GO:0051171': 0.047, 'GO:0051247': 0.01, 'GO:0051173': 0.01, 'GO:0009893': 0.017, 'GO:0009056': 0.173, 'GO:0009896': 0.007, 'GO:0009057': 0.064, 'GO:0080090': 0.059, 'GO:0051172': 0.012, 'GO:0031324': 0.017, 'GO:0048523': 0.038, 'GO:0031323': 0.067, 'GO:0019220': 0.01, 'GO:0010605': 0.021, 'GO:0016773': 0.016, 'GO:0032269': 0.007, 'GO:0031399': 0.008, 'GO:0016772': 0.042, 'GO:0051174': 0.014, 'GO:0009892': 0.022, 'GO:0051248': 0.008, 'GO:0006793': 0.129, 'GO:0065009': 0.04, 'GO:0044092': 0.007, 'GO:0050790': 0.03, 'GO:0006796': 0.129, 'GO:0030234': 0.009, 'GO:0016301': 0.024, 'GO:0016310': 0.036, 'GO:0004672': 0.007, 'GO:0043086': 0.005, 'GO:0098772': 0.015, 'GO:0006468': 0.015, 'GO:0042325': 0.006, 'GO:0032268': 0.027, 'GO:0048585': 0.01, 'GO:0019219': 0.008, 'GO:0034655': 0.007, 'GO:0006725': 0.067, 'GO:0009966': 0.015, 'GO:0010608': 0.011, 'GO:0090304': 0.038, 'GO:0048583': 0.021, 'GO:0046483': 0.074, 'GO:1901361': 0.018, 'GO:0044270': 0.014, 'GO:0051128': 0.007, 'GO:0043085': 0.013, 'GO:0010941': 0.006, 'GO:0006139': 0.063, 'GO:0016071': 0.009, 'GO:0031329': 0.009, 'GO:0012501': 0.008, 'GO:0010648': 0.008, 'GO:0010646': 0.016, 'GO:0034641': 0.109, 'GO:0010629': 0.006, 'GO:0023051': 0.017, 'GO:0016311': 0.015, 'GO:0044093': 0.013, 'GO:0035556': 0.016, 'GO:0009968': 0.008, 'GO:0048522': 0.025, 'GO:0007005': 0.006, 'GO:0042802': 0.017, 'GO:0016070': 0.026, 'GO:0046700': 0.015, 'GO:0019439': 0.015, 'GO:0044265': 0.058, 'GO:0006470': 0.007, 'GO:0048584': 0.007, 'GO:1901360': 0.09, 'GO:0044248': 0.138, 'GO:0008219': 0.012, 'GO:0031326': 0.01, 'GO:0009890': 0.005, 'GO:0010556': 0.006, 'GO:0018130': 0.023, 'GO:0034645': 0.033, 'GO:0032991': 0.065, 'GO:0022607': 0.011, 'GO:1901576': 0.13, 'GO:1901362': 0.029, 'GO:0044249': 0.125, 'GO:0019438': 0.022, 'GO:0034654': 0.021, 'GO:0043933': 0.011, 'GO:0044271': 0.035, 'GO:0009058': 0.134, 'GO:0044085': 0.014, 'GO:0065003': 0.009, 'GO:0009889': 0.01, 'GO:0009059': 0.037, 'GO:2000112': 0.005, 'GO:0032774': 0.006, 'GO:0005576': 0.01, 'GO:1902531': 0.009, 'GO:0044421': 0.006, 'GO:0043232': 0.007, 'GO:0003006': 0.008, 'GO:0006974': 0.011, 'GO:0046983': 0.009, 'GO:0043228': 0.007, 'GO:0048731': 0.011, 'GO:0032504': 0.006, 'GO:0048609': 0.006, 'GO:0030162': 0.007, 'GO:0051336': 0.012, 'GO:0080134': 0.007, 'GO:0006508': 0.081, 'GO:0016787': 0.113, 'GO:0004175': 0.009, 'GO:0080135': 0.005, 'GO:0044425': 0.007, 'GO:0070011': 0.031, 'GO:0008233': 0.031, 'GO:0008234': 0.011, 'GO:0042592': 0.008, 'GO:0006629': 0.065, 'GO:0016042': 0.011, 'GO:0031325': 0.013, 'GO:0050793': 0.005, 'GO:0042803': 0.008, 'GO:0007166': 0.005, 'GO:0044428': 0.031, 'GO:0043233': 0.04, 'GO:0031981': 0.031, 'GO:0070013': 0.04, 'GO:0005654': 0.031, 'GO:0031974': 0.04, 'GO:0000323': 0.008, 'GO:0002376': 0.007, 'GO:0005975': 0.023, 'GO:0044419': 0.006, 'GO:0006412': 0.006, 'GO:0043604': 0.02, 'GO:1901566': 0.07, 'GO:0034248': 0.006, 'GO:0006414': 0.006, 'GO:0006518': 0.015, 'GO:0043043': 0.009, 'GO:0043603': 0.034, 'GO:0044403': 0.006, 'GO:1902494': 0.044, 'GO:0005783': 0.015, 'GO:0044432': 0.006, 'GO:0044283': 0.023, 'GO:0019752': 0.033, 'GO:0044281': 0.082, 'GO:0043436': 0.043, 'GO:0016053': 0.013, 'GO:0072330': 0.009, 'GO:0006520': 0.012, 'GO:0016829': 0.015, 'GO:0032787': 0.016, 'GO:0006082': 0.043, 'GO:0046394': 0.013, 'GO:0006979': 0.005, 'GO:0008237': 0.009, 'GO:0016788': 0.06, 'GO:0004721': 0.006, 'GO:0016791': 0.014, 'GO:0042578': 0.019, 'GO:0032270': 0.008, 'GO:0044255': 0.065, 'GO:0030258': 0.008, 'GO:0018193': 0.016, 'GO:0016874': 0.012, 'GO:0019783': 0.011, 'GO:0006575': 0.008, 'GO:0008168': 0.013, 'GO:1901135': 0.061, 'GO:0017144': 0.013, 'GO:0032259': 0.013, 'GO:0006790': 0.013, 'GO:0044272': 0.007, 'GO:0016741': 0.016, 'GO:0008757': 0.011, 'GO:0003723': 0.008, 'GO:1901137': 0.038, 'GO:0051186': 0.008, 'GO:0051603': 0.038, 'GO:0044257': 0.038, 'GO:0043632': 0.021, 'GO:0019941': 0.02, 'GO:0010498': 0.012, 'GO:0043161': 0.008, 'GO:0006511': 0.02, 'GO:0046395': 0.006, 'GO:0016054': 0.006, 'GO:0006631': 0.01, 'GO:0044282': 0.009, 'GO:0044242': 0.009, 'GO:0055114': 0.038, 'GO:0016817': 0.007, 'GO:0016462': 0.006, 'GO:0016818': 0.007, 'GO:0044429': 0.008, 'GO:0046872': 0.02, 'GO:0043169': 0.024, 'GO:0046914': 0.013, 'GO:0008610': 0.029, 'GO:0006644': 0.017, 'GO:0016491': 0.026, 'GO:0016853': 0.009, 'GO:1901617': 0.006, 'GO:0097164': 0.008, 'GO:1901615': 0.01, 'GO:0046486': 0.011, 'GO:0006650': 0.011, 'GO:0048037': 0.01, 'GO:0019637': 0.039, 'GO:0006066': 0.009, 'GO:0044451': 0.006, 'GO:0009117': 0.006, 'GO:1901293': 0.005, 'GO:0055086': 0.014, 'GO:0006753': 0.006, 'GO:0090407': 0.021, 'GO:0051213': 0.008, 'GO:0009165': 0.005, 'GO:0016705': 0.009, 'GO:0016747': 0.006, 'GO:0016746': 0.012, 'GO:0016798': 0.01, 'GO:0140097': 0.006, 'GO:0006259': 0.013, 'GO:0006281': 0.005, 'GO:0004553': 0.008, 'GO:0005976': 0.006, 'GO:0044262': 0.014, 'GO:0016758': 0.018, 'GO:0016757': 0.02, 'GO:0001676': 0.008, 'GO:0016879': 0.006, 'GO:0008081': 0.008, 'GO:0016298': 0.01, 'GO:0004620': 0.007, 'GO:0008654': 0.008, 'GO:0045017': 0.005, 'GO:0006091': 0.006, 'GO:1901136': 0.005, 'GO:0140101': 0.006, 'GO:0140098': 0.014, 'GO:0005996': 0.006, 'GO:0016051': 0.009, 'GO:0008194': 0.009, 'GO:0051604': 0.006, 'GO:0006486': 0.016, 'GO:0009100': 0.019, 'GO:0070085': 0.017, 'GO:0043413': 0.016, 'GO:0009101': 0.016, 'GO:0006643': 0.009, 'GO:1903509': 0.006, 'GO:0006665': 0.008, 'GO:0046467': 0.006, 'GO:0006396': 0.012, 'GO:0006633': 0.009, 'GO:0016810': 0.008, 'GO:1990234': 0.024, 'GO:0019318': 0.005, 'GO:0008238': 0.006, 'GO:0006399': 0.008, 'GO:0034660': 0.008, 'GO:0046165': 0.006, 'GO:0043414': 0.008, 'GO:0016779': 0.008, 'GO:0090305': 0.008, 'GO:0004518': 0.008, 'GO:0004540': 0.006, 'GO:0004527': 0.005, 'GO:0090501': 0.006, 'GO:0008270': 0.013, 'GO:0016579': 0.008, 'GO:0101005': 0.008, 'GO:0036459': 0.008, 'GO:0070646': 0.011, 'GO:0004843': 0.008, 'GO:0097502': 0.006, 'GO:0000151': 0.01, 'GO:0031461': 0.007, 'GO:0008170': 0.007, 'GO:0007049': 0.007, 'GO:0023057': 0.008}}\n",
      "Number of GOs 402\n"
     ]
    },
    {
     "name": "stderr",
     "output_type": "stream",
     "text": [
      "INFO:root:Processing annotations\n"
     ]
    },
    {
     "name": "stdout",
     "output_type": "stream",
     "text": [
      "GO Annotations 0\n"
     ]
    }
   ],
   "source": [
    "deepgo_annots = {}\n",
    "print ( dg_annots)\n",
    "for g_id, annots in dg_annots.items():\n",
    "        deepgo_annots[g_id] = [go_id + '|' + str(score) for go_id, score in annots.items()]\n",
    "# print ( deepgo_annots)\n",
    "print('Number of GOs', len(gos))\n",
    "gos_df = pd.DataFrame({'gos': list(gos)})\n",
    "gos_df.to_pickle('data/new/gos.pkl')\n",
    "\n",
    "go_annots = {}\n",
    "iea_annots = {}\n",
    "seqs = {}\n",
    "# print ( go_annots) \n",
    "df\n",
    "for i, row in df.iterrows():\n",
    "        if row.proteins not in prot2gene:\n",
    "#             print ( row.proteins,'N___________O')\n",
    "            continue\n",
    "        g_id = prot2gene[row.proteins]\n",
    "\n",
    "        print (g_id )\n",
    "        if g_id not in go_annots:\n",
    "#             print ( g_id, 'No')\n",
    "            go_annots[g_id] = set()\n",
    "            iea_annots[g_id] = set()\n",
    "#         print ( g_id, 'Yes')\n",
    "        go_annots[g_id] |= set(row.exp_annotations)\n",
    "        iea_annots[g_id] |= set(row.iea_annotations)\n",
    "        seqs[g_id] = row.sequences\n",
    "\n",
    "print('GO Annotations', len(go_annots))\n",
    "logging.info('Processing annotations')\n",
    "# print ( go_annots)"
   ]
  },
  {
   "cell_type": "code",
   "execution_count": 11,
   "metadata": {},
   "outputs": [
    {
     "name": "stderr",
     "output_type": "stream",
     "text": [
      "INFO:root:Number of terms 8693\n"
     ]
    },
    {
     "name": "stdout",
     "output_type": "stream",
     "text": [
      "Number of proteins 0\n"
     ]
    }
   ],
   "source": [
    "cnt = Counter()\n",
    "annotations = list()\n",
    "for g_id, annots in hp_annots.items():\n",
    "        for term in annots:\n",
    "            cnt[term] += 1\n",
    "    \n",
    "    \n",
    "deepgo_annotations = []\n",
    "go_annotations = []\n",
    "iea_annotations = []\n",
    "hpos = []\n",
    "genes = []\n",
    "sequences = []\n",
    "for g_id, phenos in hp_annots.items():\n",
    "        if g_id not in dg_annots:\n",
    "#             print ('NO')\n",
    "            continue\n",
    "        genes.append(g_id)\n",
    "        hpos.append(phenos)\n",
    "        go_annotations.append(go_annots[g_id])\n",
    "        iea_annotations.append(iea_annots[g_id])\n",
    "        deepgo_annotations.append(deepgo_annots[g_id])\n",
    "        sequences.append(seqs[g_id])\n",
    "\n",
    "#     for g_id, gos in dg_annots.items():\n",
    "#         genes.append(g_id)\n",
    "#         phenos = set()\n",
    "#         if g_id in hp_annots:\n",
    "#             phenos = hp_annots[g_id]\n",
    "#         hpos.append(phenos)\n",
    "#         go_annotations.append(go_annots[g_id])\n",
    "#         iea_annotations.append(iea_annots[g_id])\n",
    "#         deepgo_annotations.append(deepgo_annots[g_id])\n",
    "#         sequences.append(seqs[g_id])\n",
    "    \n",
    "        \n",
    "df = pd.DataFrame(\n",
    "        {'genes': genes, 'hp_annotations': hpos,\n",
    "         'go_annotations': go_annotations, 'iea_annotations': iea_annotations,\n",
    "         'deepgo_annotations': deepgo_annotations,\n",
    "         'sequences': sequences})\n",
    "df.to_pickle('data/new/human_2.pkl')\n",
    "print(f'Number of proteins {len(df)}')\n",
    "    \n",
    "    # Filter terms with annotations more than min_count\n",
    "terms_set = set()\n",
    "all_terms = []\n",
    "for key, val in cnt.items():\n",
    "        if key == 'HP:0000001':\n",
    "            continue\n",
    "        all_terms.append(key)\n",
    "        if val >= 1:\n",
    "            terms_set.add(key)\n",
    "terms = []\n",
    "labels = []\n",
    "for t_id in hp.get_ordered_terms():\n",
    "        if t_id in terms_set:\n",
    "            terms.append(t_id)\n",
    "            labels.append(hp.get_term(t_id)['name'])\n",
    "    \n",
    "logging.info(f'Number of terms {len(terms)}')\n",
    "#     Save the list of terms\n",
    "df = pd.DataFrame({'terms': terms, 'labels': labels})\n",
    "df.to_pickle('data/new/terms_2.pkl')\n",
    "df = pd.DataFrame({'terms': all_terms})\n",
    "df.to_pickle('data/new/all_terms.pkl')\n",
    "                \n"
   ]
  },
  {
   "cell_type": "code",
   "execution_count": 1,
   "metadata": {},
   "outputs": [],
   "source": [
    "#!/usr/bin/env python\n",
    "#This script is used to generate training and testing datasets.\n",
    "import click as ck\n",
    "import numpy as np\n",
    "import pandas as pd\n",
    "from collections import Counter\n",
    "from utils import Ontology, FUNC_DICT\n",
    "import logging\n",
    "\n",
    "logging.basicConfig(level=logging.INFO)\n",
    "\n",
    "def main(go_file, hp_file, hp_annots_file, deepgo_annots_file, id_mapping_file,data_file, \n",
    "         string_mapping_file,out_data_file, out_terms_file, min_count):\n",
    "    go = Ontology(go_file, with_rels=True)\n",
    "    print('GO loaded')\n",
    "    hp = Ontology(hp_file, with_rels=True)\n",
    "    print('HP loaded')\n",
    "    print('Load Gene2prot mapping')\n",
    "    df = pd.read_pickle(data_file)\n",
    "    prot2gene = {}\n",
    "    with open(id_mapping_file) as f:\n",
    "        next(f)\n",
    "        for line in f:\n",
    "            it = line.strip().split('\\t')\n",
    "            prot2gene[it[2]] = it[0]\n",
    "        print ( prot2gene)\n",
    "    # for row in df.itertuples():\n",
    "    #     if row.genes != '':\n",
    "    #         prot2gene[row.proteins] = row.genes\n",
    "#     print ('-_-ccccccccccccccccccc',it[1:])\n",
    "    print('Loading HP annotations')\n",
    "    hp_annots = {}\n",
    "    with open(hp_annots_file) as f:\n",
    "        next(f)\n",
    "        for line in f:\n",
    "            it = line.strip().split('\\t')\n",
    "            gene_id = it[0]\n",
    "            hp_id = it[3]\n",
    "            if gene_id not in hp_annots:\n",
    "                hp_annots[gene_id] = set()\n",
    "            if hp.has_term(hp_id):\n",
    "                hp_annots[gene_id] |= hp.get_anchestors(hp_id)\n",
    "#     print ( gene_id)            \n",
    "#     print ('gene_ids__________________________', gene_id)            \n",
    "    total_annots = 0\n",
    "    for g_id, annots in hp_annots.items():\n",
    "        annots.discard('HP:0000001')\n",
    "        total_annots += len(annots)\n",
    "    print('HP Annotations', len(hp_annots), total_annots, (total_annots / len(hp_annots)))\n",
    "    dg_annots = {}\n",
    "    gos = set()\n",
    "    with open(deepgo_annots_file) as f:\n",
    "        for line in f:\n",
    "            it = line.strip().split('\\t')\n",
    "#             print( 'YES_first ')\n",
    "            if it[0] not in prot2gene:\n",
    "#                 print( 'YES_second ')\n",
    "                continue\n",
    "            gene_id = prot2gene[it[0]]\n",
    "            annots = dg_annots.get(gene_id, {})\n",
    "            for item in it[1:]:\n",
    "                go_id, score = item.split('|')\n",
    "                score = float(score)\n",
    "                annots[go_id] = max(score, annots.get(go_id, 0))\n",
    "                print( 'we are here ____3',annots[go_id])\n",
    "            dg_annots[gene_id] = annots\n",
    "            gos |= set(annots.keys())\n",
    "#         print ('annots___________-------------------------------' ,annots)\n",
    "    print('DeepGO Annotations', len(dg_annots))\n",
    "    deepgo_annots = {}\n",
    "    for g_id, annots in dg_annots.items():\n",
    "        deepgo_annots[g_id] = [go_id + '|' + str(score) for go_id, score in annots.items()]\n",
    "    print('Number of GOs', len(gos))\n",
    "    gos_df = pd.DataFrame({'gos': list(gos)})\n",
    "    gos_df.to_pickle('data/new/gos.pkl')\n",
    "\n",
    "    go_annots = {}\n",
    "    iea_annots = {}\n",
    "    seqs = {}\n",
    "    \n",
    "    for i, row in df.iterrows():\n",
    "        if row.proteins not in prot2gene:\n",
    "            continue\n",
    "        g_id = prot2gene[row.proteins]\n",
    "        if g_id not in go_annots:\n",
    "            go_annots[g_id] = set()\n",
    "            iea_annots[g_id] = set()\n",
    "        go_annots[g_id] |= set(row.exp_annotations)\n",
    "        iea_annots[g_id] |= set(row.iea_annotations)\n",
    "        seqs[g_id] = row.sequences\n",
    "\n",
    "    print('GO Annotations', len(go_annots))\n",
    "    logging.info('Processing annotations')\n",
    "    \n",
    "    cnt = Counter()\n",
    "    annotations = list()\n",
    "    for g_id, annots in hp_annots.items():\n",
    "        for term in annots:\n",
    "            cnt[term] += 1\n",
    "    \n",
    "    \n",
    "    deepgo_annotations = []\n",
    "    go_annotations = []\n",
    "    iea_annotations = []\n",
    "    hpos = []\n",
    "    genes = []\n",
    "    sequences = []\n",
    "    for g_id, phenos in hp_annots.items():\n",
    "        if g_id not in dg_annots:\n",
    "            continue\n",
    "        genes.append(g_id)\n",
    "        hpos.append(phenos)\n",
    "        go_annotations.append(go_annots[g_id])\n",
    "        iea_annotations.append(iea_annots[g_id])\n",
    "        deepgo_annotations.append(deepgo_annots[g_id])\n",
    "        sequences.append(seqs[g_id])\n",
    "\n",
    "#     for g_id, gos in dg_annots.items():\n",
    "#         genes.append(g_id)\n",
    "#         phenos = set()\n",
    "#         if g_id in hp_annots:\n",
    "#             phenos = hp_annots[g_id]\n",
    "#         hpos.append(phenos)\n",
    "#         go_annotations.append(go_annots[g_id])\n",
    "#         iea_annotations.append(iea_annots[g_id])\n",
    "#         deepgo_annotations.append(deepgo_annots[g_id])\n",
    "#         sequences.append(seqs[g_id])\n",
    "    \n",
    "        \n",
    "    df = pd.DataFrame(\n",
    "        {'genes': genes, 'hp_annotations': hpos,\n",
    "         'go_annotations': go_annotations, 'iea_annotations': iea_annotations,\n",
    "         'deepgo_annotations': deepgo_annotations,\n",
    "         'sequences': sequences})\n",
    "    df.to_pickle(out_data_file)\n",
    "    print(f'Number of proteins {len(df)}')\n",
    "    \n",
    "    # Filter terms with annotations more than min_count\n",
    "    terms_set = set()\n",
    "    all_terms = []\n",
    "    for key, val in cnt.items():\n",
    "        if key == 'HP:0000001':\n",
    "            continue\n",
    "        all_terms.append(key)\n",
    "        if val >= min_count:\n",
    "            terms_set.add(key)\n",
    "    terms = []\n",
    "    labels = []\n",
    "    for t_id in hp.get_ordered_terms():\n",
    "        if t_id in terms_set:\n",
    "            terms.append(t_id)\n",
    "            labels.append(hp.get_term(t_id)['name'])\n",
    "    \n",
    "    logging.info(f'Number of terms {len(terms)}')\n",
    "#     Save the list of terms\n",
    "    df = pd.DataFrame({'terms': terms, 'labels': labels})\n",
    "    df.to_pickle(out_terms_file)\n",
    "    df = pd.DataFrame({'terms': all_terms})\n",
    "    df.to_pickle('data/new/all_terms.pkl')\n",
    "                \n",
    "\n"
   ]
  },
  {
   "cell_type": "code",
   "execution_count": 1,
   "metadata": {},
   "outputs": [
    {
     "name": "stderr",
     "output_type": "stream",
     "text": [
      "C:\\Users\\Mohamed\\AppData\\Roaming\\Python\\Python36\\site-packages\\numpy\\_distributor_init.py:32: UserWarning: loaded more than 1 DLL from .libs:\n",
      "C:\\Users\\Mohamed\\AppData\\Roaming\\Python\\Python36\\site-packages\\numpy\\.libs\\libopenblas.PYQHXLVVQ7VESDPUVUADXEVJOBGHJPAY.gfortran-win_amd64.dll\n",
      "C:\\Users\\Mohamed\\AppData\\Roaming\\Python\\Python36\\site-packages\\numpy\\.libs\\libopenblas.TXA6YQSD3GCQQC22GEQ54J2UDCXDXHWN.gfortran-win_amd64.dll\n",
      "  stacklevel=1)\n",
      "C:\\Users\\Mohamed\\Anaconda_3_v_1\\lib\\site-packages\\tensorflow\\python\\framework\\dtypes.py:523: FutureWarning: Passing (type, 1) or '1type' as a synonym of type is deprecated; in a future version of numpy, it will be understood as (type, (1,)) / '(1,)type'.\n",
      "  _np_qint8 = np.dtype([(\"qint8\", np.int8, 1)])\n",
      "C:\\Users\\Mohamed\\Anaconda_3_v_1\\lib\\site-packages\\tensorflow\\python\\framework\\dtypes.py:524: FutureWarning: Passing (type, 1) or '1type' as a synonym of type is deprecated; in a future version of numpy, it will be understood as (type, (1,)) / '(1,)type'.\n",
      "  _np_quint8 = np.dtype([(\"quint8\", np.uint8, 1)])\n",
      "C:\\Users\\Mohamed\\Anaconda_3_v_1\\lib\\site-packages\\tensorflow\\python\\framework\\dtypes.py:525: FutureWarning: Passing (type, 1) or '1type' as a synonym of type is deprecated; in a future version of numpy, it will be understood as (type, (1,)) / '(1,)type'.\n",
      "  _np_qint16 = np.dtype([(\"qint16\", np.int16, 1)])\n",
      "C:\\Users\\Mohamed\\Anaconda_3_v_1\\lib\\site-packages\\tensorflow\\python\\framework\\dtypes.py:526: FutureWarning: Passing (type, 1) or '1type' as a synonym of type is deprecated; in a future version of numpy, it will be understood as (type, (1,)) / '(1,)type'.\n",
      "  _np_quint16 = np.dtype([(\"quint16\", np.uint16, 1)])\n",
      "C:\\Users\\Mohamed\\Anaconda_3_v_1\\lib\\site-packages\\tensorflow\\python\\framework\\dtypes.py:527: FutureWarning: Passing (type, 1) or '1type' as a synonym of type is deprecated; in a future version of numpy, it will be understood as (type, (1,)) / '(1,)type'.\n",
      "  _np_qint32 = np.dtype([(\"qint32\", np.int32, 1)])\n",
      "C:\\Users\\Mohamed\\Anaconda_3_v_1\\lib\\site-packages\\tensorflow\\python\\framework\\dtypes.py:532: FutureWarning: Passing (type, 1) or '1type' as a synonym of type is deprecated; in a future version of numpy, it will be understood as (type, (1,)) / '(1,)type'.\n",
      "  np_resource = np.dtype([(\"resource\", np.ubyte, 1)])\n"
     ]
    },
    {
     "name": "stdout",
     "output_type": "stream",
     "text": [
      "1.12.0\n"
     ]
    }
   ],
   "source": [
    "import tensorflow as tf; print(tf.__version__)"
   ]
  },
  {
   "cell_type": "code",
   "execution_count": 2,
   "metadata": {
    "scrolled": true
   },
   "outputs": [
    {
     "name": "stdout",
     "output_type": "stream",
     "text": [
      "GO loaded\n",
      "HP loaded\n",
      "Load Gene2prot mapping\n",
      "{'HP:0000252': '7516', 'HP:0007364': '51021', 'HP:0002011': '6569', 'HP:0007370': '6900', 'HP:0009145': '7128', 'HP:0002079': '23314', 'HP:0012639': '6892', 'HP:0012443': '7148', 'HP:0007360': '4361', 'HP:0002060': '8604', 'HP:0002977': '63910', 'HP:0009830': '3759', 'HP:0001317': '57190', 'HP:0001339': '1063', 'HP:0010827': '7170', 'HP:0002059': '8898', 'HP:0001249': '6509', 'HP:0002315': '6144', 'HP:0004362': '9742', 'HP:0011400': '1337', 'HP:0001287': '3718', 'HP:0001274': '546', 'HP:0012759': '26504', 'HP:0100547': '50937', 'HP:0012503': '2690', 'HP:0012638': '340419', 'HP:0000080': '117155', 'HP:0410008': '10383', 'HP:0010628': '23363', 'HP:0000707': '5269', 'HP:0002120': '3300', 'HP:0010514': '1585', 'HP:0000144': '57055', 'HP:0002170': '94', 'HP:0012758': '22978', 'HP:0002270': '5071', 'HP:0002490': '84300', 'HP:0007369': '79443', 'HP:0002076': '6201', 'HP:0001302': '153241', 'HP:0000238': '129880', 'HP:0011450': '114548', 'HP:0031409': '2934', 'HP:0001945': '930', 'HP:0010993': '1892', 'HP:0000708': '3617', 'HP:0011032': '5172', 'HP:0000388': '55036', 'HP:0001297': '7168', 'HP:0011446': '3875', 'HP:0007378': '867', 'HP:0100022': '23516', 'HP:0002536': '6491', 'HP:0000759': '2065', 'HP:0011747': '5568', 'HP:0002715': '57102', 'HP:0002414': '2201', 'HP:0001321': '2131'}\n",
      "Loading HP annotations\n",
      "HP Annotations 4073 529475 129.99631721090105\n",
      "DeepGO Annotations 0\n",
      "Number of GOs 0\n"
     ]
    },
    {
     "name": "stderr",
     "output_type": "stream",
     "text": [
      "INFO:root:Processing annotations\n"
     ]
    },
    {
     "name": "stdout",
     "output_type": "stream",
     "text": [
      "GO Annotations 0\n",
      "Number of proteins 0\n"
     ]
    },
    {
     "ename": "AttributeError",
     "evalue": "'Ontology' object has no attribute 'get_ordered_terms'",
     "output_type": "error",
     "traceback": [
      "\u001b[1;31m---------------------------------------------------------------------------\u001b[0m",
      "\u001b[1;31mAttributeError\u001b[0m                            Traceback (most recent call last)",
      "\u001b[1;32m<ipython-input-2-77a7633b4d1b>\u001b[0m in \u001b[0;36m<module>\u001b[1;34m()\u001b[0m\n\u001b[0;32m      1\u001b[0m \u001b[1;31m#main(go_file, hp_file, hp_annots_file, deepgo_annots_file, id_mapping_file,data_file, string_mapping_file,out_data_file, out_terms_file, min_count):\u001b[0m\u001b[1;33m\u001b[0m\u001b[1;33m\u001b[0m\u001b[0m\n\u001b[1;32m----> 2\u001b[1;33m \u001b[0mmain\u001b[0m\u001b[1;33m(\u001b[0m\u001b[1;34m'data/go.obo'\u001b[0m\u001b[1;33m,\u001b[0m\u001b[1;34m'data/hp.obo'\u001b[0m\u001b[1;33m,\u001b[0m\u001b[1;34m'data/ALL_SOURCES_ALL_FREQUENCIES_genes_to_phenotype.txt'\u001b[0m\u001b[1;33m,\u001b[0m\u001b[1;34m'data/human.res'\u001b[0m\u001b[1;33m,\u001b[0m\u001b[1;34m'data/gene_annotations_all.tab'\u001b[0m\u001b[1;33m,\u001b[0m\u001b[1;34m'data/swissprot.pkl'\u001b[0m\u001b[1;33m,\u001b[0m\u001b[1;34m'data/string2uni.tab'\u001b[0m\u001b[1;33m,\u001b[0m\u001b[1;34m'data/test/human.pkl'\u001b[0m\u001b[1;33m,\u001b[0m\u001b[1;34m'data/test/terms_2.pkl'\u001b[0m\u001b[1;33m,\u001b[0m\u001b[1;36m10\u001b[0m\u001b[1;33m)\u001b[0m\u001b[1;33m\u001b[0m\u001b[0m\n\u001b[0m",
      "\u001b[1;32m<ipython-input-1-4bd0f6793461>\u001b[0m in \u001b[0;36mmain\u001b[1;34m(go_file, hp_file, hp_annots_file, deepgo_annots_file, id_mapping_file, data_file, string_mapping_file, out_data_file, out_terms_file, min_count)\u001b[0m\n\u001b[0;32m    147\u001b[0m     \u001b[0mterms\u001b[0m \u001b[1;33m=\u001b[0m \u001b[1;33m[\u001b[0m\u001b[1;33m]\u001b[0m\u001b[1;33m\u001b[0m\u001b[0m\n\u001b[0;32m    148\u001b[0m     \u001b[0mlabels\u001b[0m \u001b[1;33m=\u001b[0m \u001b[1;33m[\u001b[0m\u001b[1;33m]\u001b[0m\u001b[1;33m\u001b[0m\u001b[0m\n\u001b[1;32m--> 149\u001b[1;33m     \u001b[1;32mfor\u001b[0m \u001b[0mt_id\u001b[0m \u001b[1;32min\u001b[0m \u001b[0mhp\u001b[0m\u001b[1;33m.\u001b[0m\u001b[0mget_ordered_terms\u001b[0m\u001b[1;33m(\u001b[0m\u001b[1;33m)\u001b[0m\u001b[1;33m:\u001b[0m\u001b[1;33m\u001b[0m\u001b[0m\n\u001b[0m\u001b[0;32m    150\u001b[0m         \u001b[1;32mif\u001b[0m \u001b[0mt_id\u001b[0m \u001b[1;32min\u001b[0m \u001b[0mterms_set\u001b[0m\u001b[1;33m:\u001b[0m\u001b[1;33m\u001b[0m\u001b[0m\n\u001b[0;32m    151\u001b[0m             \u001b[0mterms\u001b[0m\u001b[1;33m.\u001b[0m\u001b[0mappend\u001b[0m\u001b[1;33m(\u001b[0m\u001b[0mt_id\u001b[0m\u001b[1;33m)\u001b[0m\u001b[1;33m\u001b[0m\u001b[0m\n",
      "\u001b[1;31mAttributeError\u001b[0m: 'Ontology' object has no attribute 'get_ordered_terms'"
     ]
    }
   ],
   "source": [
    "#main(go_file, hp_file, hp_annots_file, deepgo_annots_file, id_mapping_file,data_file, string_mapping_file,out_data_file, out_terms_file, min_count):\n",
    "main('data/go.obo','data/hp.obo','data/ALL_SOURCES_ALL_FREQUENCIES_genes_to_phenotype.txt','data/human.res','data/gene_annotations_all.tab','data/swissprot.pkl','data/string2uni.tab','data/test/human.pkl','data/test/terms_2.pkl',10)"
   ]
  },
  {
   "cell_type": "code",
   "execution_count": null,
   "metadata": {},
   "outputs": [],
   "source": []
  },
  {
   "cell_type": "code",
   "execution_count": 4,
   "metadata": {},
   "outputs": [
    {
     "name": "stdout",
     "output_type": "stream",
     "text": [
      "GPU Available:  True\n"
     ]
    }
   ],
   "source": []
  },
  {
   "cell_type": "code",
   "execution_count": 5,
   "metadata": {},
   "outputs": [
    {
     "name": "stdout",
     "output_type": "stream",
     "text": [
      "GPU Available:  True\n"
     ]
    }
   ],
   "source": []
  },
  {
   "cell_type": "code",
   "execution_count": null,
   "metadata": {},
   "outputs": [],
   "source": []
  },
  {
   "cell_type": "code",
   "execution_count": null,
   "metadata": {},
   "outputs": [],
   "source": []
  },
  {
   "cell_type": "code",
   "execution_count": 12,
   "metadata": {},
   "outputs": [
    {
     "data": {
      "text/html": [
       "<div>\n",
       "<style scoped>\n",
       "    .dataframe tbody tr th:only-of-type {\n",
       "        vertical-align: middle;\n",
       "    }\n",
       "\n",
       "    .dataframe tbody tr th {\n",
       "        vertical-align: top;\n",
       "    }\n",
       "\n",
       "    .dataframe thead th {\n",
       "        text-align: right;\n",
       "    }\n",
       "</style>\n",
       "<table border=\"1\" class=\"dataframe\">\n",
       "  <thead>\n",
       "    <tr style=\"text-align: right;\">\n",
       "      <th></th>\n",
       "      <th>terms</th>\n",
       "      <th>labels</th>\n",
       "    </tr>\n",
       "  </thead>\n",
       "  <tbody>\n",
       "    <tr>\n",
       "      <th>0</th>\n",
       "      <td>HP:0003831</td>\n",
       "      <td>Age-dependent penetrance</td>\n",
       "    </tr>\n",
       "    <tr>\n",
       "      <th>1</th>\n",
       "      <td>HP:0003828</td>\n",
       "      <td>Variable expressivity</td>\n",
       "    </tr>\n",
       "    <tr>\n",
       "      <th>2</th>\n",
       "      <td>HP:0003829</td>\n",
       "      <td>Incomplete penetrance</td>\n",
       "    </tr>\n",
       "    <tr>\n",
       "      <th>3</th>\n",
       "      <td>HP:0003812</td>\n",
       "      <td>Phenotypic variability</td>\n",
       "    </tr>\n",
       "    <tr>\n",
       "      <th>4</th>\n",
       "      <td>HP:0020034</td>\n",
       "      <td>Diffuse</td>\n",
       "    </tr>\n",
       "    <tr>\n",
       "      <th>...</th>\n",
       "      <td>...</td>\n",
       "      <td>...</td>\n",
       "    </tr>\n",
       "    <tr>\n",
       "      <th>8688</th>\n",
       "      <td>HP:0003587</td>\n",
       "      <td>Insidious onset</td>\n",
       "    </tr>\n",
       "    <tr>\n",
       "      <th>8689</th>\n",
       "      <td>HP:0011008</td>\n",
       "      <td>Temporal pattern</td>\n",
       "    </tr>\n",
       "    <tr>\n",
       "      <th>8690</th>\n",
       "      <td>HP:0031797</td>\n",
       "      <td>Clinical course</td>\n",
       "    </tr>\n",
       "    <tr>\n",
       "      <th>8691</th>\n",
       "      <td>HP:0040284</td>\n",
       "      <td>Very rare</td>\n",
       "    </tr>\n",
       "    <tr>\n",
       "      <th>8692</th>\n",
       "      <td>HP:0040279</td>\n",
       "      <td>Frequency</td>\n",
       "    </tr>\n",
       "  </tbody>\n",
       "</table>\n",
       "<p>8693 rows × 2 columns</p>\n",
       "</div>"
      ],
      "text/plain": [
       "           terms                    labels\n",
       "0     HP:0003831  Age-dependent penetrance\n",
       "1     HP:0003828     Variable expressivity\n",
       "2     HP:0003829     Incomplete penetrance\n",
       "3     HP:0003812    Phenotypic variability\n",
       "4     HP:0020034                   Diffuse\n",
       "...          ...                       ...\n",
       "8688  HP:0003587           Insidious onset\n",
       "8689  HP:0011008          Temporal pattern\n",
       "8690  HP:0031797           Clinical course\n",
       "8691  HP:0040284                 Very rare\n",
       "8692  HP:0040279                 Frequency\n",
       "\n",
       "[8693 rows x 2 columns]"
      ]
     },
     "execution_count": 12,
     "metadata": {},
     "output_type": "execute_result"
    }
   ],
   "source": [
    "f=pd.read_pickle('data/new/terms_2.pkl')\n",
    "f"
   ]
  },
  {
   "cell_type": "code",
   "execution_count": 3,
   "metadata": {},
   "outputs": [
    {
     "data": {
      "text/html": [
       "<div>\n",
       "<style scoped>\n",
       "    .dataframe tbody tr th:only-of-type {\n",
       "        vertical-align: middle;\n",
       "    }\n",
       "\n",
       "    .dataframe tbody tr th {\n",
       "        vertical-align: top;\n",
       "    }\n",
       "\n",
       "    .dataframe thead th {\n",
       "        text-align: right;\n",
       "    }\n",
       "</style>\n",
       "<table border=\"1\" class=\"dataframe\">\n",
       "  <thead>\n",
       "    <tr style=\"text-align: right;\">\n",
       "      <th></th>\n",
       "      <th>genes</th>\n",
       "      <th>hp_annotations</th>\n",
       "      <th>go_annotations</th>\n",
       "      <th>iea_annotations</th>\n",
       "      <th>deepgo_annotations</th>\n",
       "      <th>sequences</th>\n",
       "    </tr>\n",
       "  </thead>\n",
       "  <tbody>\n",
       "    <tr>\n",
       "      <th>0</th>\n",
       "      <td>8192</td>\n",
       "      <td>{HP:0000002, HP:0000005, HP:0008684, HP:000000...</td>\n",
       "      <td>{GO:0044260, GO:0006508, GO:0044238, GO:000425...</td>\n",
       "      <td>{GO:0016818, GO:0044260, GO:0006508, GO:004423...</td>\n",
       "      <td>[GO:0000502|0.052, GO:0001539|0.035, GO:000367...</td>\n",
       "      <td>MWPGILVGGARVASCRYPALGPRLAAHFPAQRPPQRTLQNGLALQR...</td>\n",
       "    </tr>\n",
       "    <tr>\n",
       "      <th>1</th>\n",
       "      <td>2</td>\n",
       "      <td>{HP:0000001, HP:0000006, HP:0000005}</td>\n",
       "      <td>{GO:0031982, GO:0006508, GO:0005829, GO:009854...</td>\n",
       "      <td>{GO:0031982, GO:0006508, GO:0005829, GO:009854...</td>\n",
       "      <td>[GO:0000003|0.189, GO:0000165|0.051, GO:000018...</td>\n",
       "      <td>MGKNKLLHPSLVLLLLVLLPTDASVSGKPQYMVLVPSLLHTETTEK...</td>\n",
       "    </tr>\n",
       "    <tr>\n",
       "      <th>2</th>\n",
       "      <td>8195</td>\n",
       "      <td>{HP:0000534, HP:0009142, HP:0004378, HP:000081...</td>\n",
       "      <td>{GO:0007010, GO:0008104, GO:0071705, GO:000022...</td>\n",
       "      <td>{GO:0098862, GO:0005829, GO:0007010, GO:000965...</td>\n",
       "      <td>[GO:0000003|0.595, GO:0000226|0.861, GO:000110...</td>\n",
       "      <td>MSRLEAKKPSLCKSEPLTTERVRTTLSVLKRIVTSCYGPSGRLKQL...</td>\n",
       "    </tr>\n",
       "    <tr>\n",
       "      <th>3</th>\n",
       "      <td>8200</td>\n",
       "      <td>{HP:0001376, HP:0009500, HP:0045008, HP:000027...</td>\n",
       "      <td>{GO:0001501, GO:0045595, GO:0002062, GO:004858...</td>\n",
       "      <td>{GO:0001501, GO:0007399, GO:0012501, GO:002301...</td>\n",
       "      <td>[GO:0000003|0.143, GO:0000122|0.069, GO:000016...</td>\n",
       "      <td>MRLPKLLTFLLWYLAWLDLEFICTVLGAPDLGQRPQGTRPGLAKAE...</td>\n",
       "    </tr>\n",
       "    <tr>\n",
       "      <th>4</th>\n",
       "      <td>90121</td>\n",
       "      <td>{HP:0000951, HP:0000005, HP:0000271, HP:000031...</td>\n",
       "      <td>{}</td>\n",
       "      <td>{GO:0044238, GO:0006725, GO:1901360, GO:004408...</td>\n",
       "      <td>[GO:0000462|0.5, GO:0006139|0.545, GO:0006364|...</td>\n",
       "      <td>MAGAAEDARALFRAGVCAALEAWPALQIAVENGFGGVHSQEKAKWL...</td>\n",
       "    </tr>\n",
       "    <tr>\n",
       "      <th>...</th>\n",
       "      <td>...</td>\n",
       "      <td>...</td>\n",
       "      <td>...</td>\n",
       "      <td>...</td>\n",
       "      <td>...</td>\n",
       "      <td>...</td>\n",
       "    </tr>\n",
       "    <tr>\n",
       "      <th>3939</th>\n",
       "      <td>147409</td>\n",
       "      <td>{HP:0003328, HP:0001072, HP:0000534, HP:020010...</td>\n",
       "      <td>{GO:0048513, GO:0009913, GO:0012501, GO:001674...</td>\n",
       "      <td>{GO:0012501, GO:0022405, GO:1901360, GO:000715...</td>\n",
       "      <td>[GO:0000003|0.046, GO:0000165|0.01, GO:0000226...</td>\n",
       "      <td>MDWLFFRNICLLIILMVVMEVNSEFIVEVKEFDIENGTTKWQTVRR...</td>\n",
       "    </tr>\n",
       "    <tr>\n",
       "      <th>3940</th>\n",
       "      <td>8148</td>\n",
       "      <td>{HP:0001324, HP:0000005, HP:0030191, HP:001144...</td>\n",
       "      <td>{GO:0048583, GO:1901360, GO:0010557, GO:000367...</td>\n",
       "      <td>{GO:0048583, GO:1901360, GO:0010557, GO:000367...</td>\n",
       "      <td>[GO:0000018|0.062, GO:0000375|0.321, GO:000037...</td>\n",
       "      <td>MSDSGSYGQSGGEQQSYSTYGNPGSQGYGQASQSYSGYGQTTDSSY...</td>\n",
       "    </tr>\n",
       "    <tr>\n",
       "      <th>3941</th>\n",
       "      <td>344018</td>\n",
       "      <td>{HP:0000137, HP:0000006, HP:0000005, HP:000000...</td>\n",
       "      <td>{GO:0005575, GO:0005622, GO:0044464, GO:000813...</td>\n",
       "      <td>{GO:1901360, GO:0000790, GO:0010557, GO:000367...</td>\n",
       "      <td>[GO:0000122|0.059, GO:0000228|0.256, GO:000078...</td>\n",
       "      <td>MDPAPGVLDPRAAPPALLGTPQAEVLEDVLREQFGPLPQLAAVCRL...</td>\n",
       "    </tr>\n",
       "    <tr>\n",
       "      <th>3942</th>\n",
       "      <td>81887</td>\n",
       "      <td>{HP:0000534, HP:0000005, HP:0000811, HP:000016...</td>\n",
       "      <td>{GO:0044428, GO:0034708, GO:0044451, GO:007133...</td>\n",
       "      <td>{GO:0044428, GO:0034708, GO:0044451, GO:007133...</td>\n",
       "      <td>[GO:0005575|0.973, GO:0005622|0.973, GO:000562...</td>\n",
       "      <td>MSWESGAGPGLGSQGMDLVWSAWYGKCVKGKGSLPLSAHGIVVAWL...</td>\n",
       "    </tr>\n",
       "    <tr>\n",
       "      <th>3943</th>\n",
       "      <td>57338</td>\n",
       "      <td>{HP:0001332, HP:0002072, HP:0000005, HP:000074...</td>\n",
       "      <td>{GO:0005262, GO:0022890, GO:0006874, GO:004858...</td>\n",
       "      <td>{GO:0005262, GO:0022890, GO:0006874, GO:004858...</td>\n",
       "      <td>[GO:0001786|0.035, GO:0001816|0.021, GO:000181...</td>\n",
       "      <td>MSSGGRFNFDDGGSYCGGWEDGKAHGHGVCTGPKGQGEYTGSWSHG...</td>\n",
       "    </tr>\n",
       "  </tbody>\n",
       "</table>\n",
       "<p>3944 rows × 6 columns</p>\n",
       "</div>"
      ],
      "text/plain": [
       "       genes                                     hp_annotations  \\\n",
       "0       8192  {HP:0000002, HP:0000005, HP:0008684, HP:000000...   \n",
       "1          2               {HP:0000001, HP:0000006, HP:0000005}   \n",
       "2       8195  {HP:0000534, HP:0009142, HP:0004378, HP:000081...   \n",
       "3       8200  {HP:0001376, HP:0009500, HP:0045008, HP:000027...   \n",
       "4      90121  {HP:0000951, HP:0000005, HP:0000271, HP:000031...   \n",
       "...      ...                                                ...   \n",
       "3939  147409  {HP:0003328, HP:0001072, HP:0000534, HP:020010...   \n",
       "3940    8148  {HP:0001324, HP:0000005, HP:0030191, HP:001144...   \n",
       "3941  344018  {HP:0000137, HP:0000006, HP:0000005, HP:000000...   \n",
       "3942   81887  {HP:0000534, HP:0000005, HP:0000811, HP:000016...   \n",
       "3943   57338  {HP:0001332, HP:0002072, HP:0000005, HP:000074...   \n",
       "\n",
       "                                         go_annotations  \\\n",
       "0     {GO:0044260, GO:0006508, GO:0044238, GO:000425...   \n",
       "1     {GO:0031982, GO:0006508, GO:0005829, GO:009854...   \n",
       "2     {GO:0007010, GO:0008104, GO:0071705, GO:000022...   \n",
       "3     {GO:0001501, GO:0045595, GO:0002062, GO:004858...   \n",
       "4                                                    {}   \n",
       "...                                                 ...   \n",
       "3939  {GO:0048513, GO:0009913, GO:0012501, GO:001674...   \n",
       "3940  {GO:0048583, GO:1901360, GO:0010557, GO:000367...   \n",
       "3941  {GO:0005575, GO:0005622, GO:0044464, GO:000813...   \n",
       "3942  {GO:0044428, GO:0034708, GO:0044451, GO:007133...   \n",
       "3943  {GO:0005262, GO:0022890, GO:0006874, GO:004858...   \n",
       "\n",
       "                                        iea_annotations  \\\n",
       "0     {GO:0016818, GO:0044260, GO:0006508, GO:004423...   \n",
       "1     {GO:0031982, GO:0006508, GO:0005829, GO:009854...   \n",
       "2     {GO:0098862, GO:0005829, GO:0007010, GO:000965...   \n",
       "3     {GO:0001501, GO:0007399, GO:0012501, GO:002301...   \n",
       "4     {GO:0044238, GO:0006725, GO:1901360, GO:004408...   \n",
       "...                                                 ...   \n",
       "3939  {GO:0012501, GO:0022405, GO:1901360, GO:000715...   \n",
       "3940  {GO:0048583, GO:1901360, GO:0010557, GO:000367...   \n",
       "3941  {GO:1901360, GO:0000790, GO:0010557, GO:000367...   \n",
       "3942  {GO:0044428, GO:0034708, GO:0044451, GO:007133...   \n",
       "3943  {GO:0005262, GO:0022890, GO:0006874, GO:004858...   \n",
       "\n",
       "                                     deepgo_annotations  \\\n",
       "0     [GO:0000502|0.052, GO:0001539|0.035, GO:000367...   \n",
       "1     [GO:0000003|0.189, GO:0000165|0.051, GO:000018...   \n",
       "2     [GO:0000003|0.595, GO:0000226|0.861, GO:000110...   \n",
       "3     [GO:0000003|0.143, GO:0000122|0.069, GO:000016...   \n",
       "4     [GO:0000462|0.5, GO:0006139|0.545, GO:0006364|...   \n",
       "...                                                 ...   \n",
       "3939  [GO:0000003|0.046, GO:0000165|0.01, GO:0000226...   \n",
       "3940  [GO:0000018|0.062, GO:0000375|0.321, GO:000037...   \n",
       "3941  [GO:0000122|0.059, GO:0000228|0.256, GO:000078...   \n",
       "3942  [GO:0005575|0.973, GO:0005622|0.973, GO:000562...   \n",
       "3943  [GO:0001786|0.035, GO:0001816|0.021, GO:000181...   \n",
       "\n",
       "                                              sequences  \n",
       "0     MWPGILVGGARVASCRYPALGPRLAAHFPAQRPPQRTLQNGLALQR...  \n",
       "1     MGKNKLLHPSLVLLLLVLLPTDASVSGKPQYMVLVPSLLHTETTEK...  \n",
       "2     MSRLEAKKPSLCKSEPLTTERVRTTLSVLKRIVTSCYGPSGRLKQL...  \n",
       "3     MRLPKLLTFLLWYLAWLDLEFICTVLGAPDLGQRPQGTRPGLAKAE...  \n",
       "4     MAGAAEDARALFRAGVCAALEAWPALQIAVENGFGGVHSQEKAKWL...  \n",
       "...                                                 ...  \n",
       "3939  MDWLFFRNICLLIILMVVMEVNSEFIVEVKEFDIENGTTKWQTVRR...  \n",
       "3940  MSDSGSYGQSGGEQQSYSTYGNPGSQGYGQASQSYSGYGQTTDSSY...  \n",
       "3941  MDPAPGVLDPRAAPPALLGTPQAEVLEDVLREQFGPLPQLAAVCRL...  \n",
       "3942  MSWESGAGPGLGSQGMDLVWSAWYGKCVKGKGSLPLSAHGIVVAWL...  \n",
       "3943  MSSGGRFNFDDGGSYCGGWEDGKAHGHGVCTGPKGQGEYTGSWSHG...  \n",
       "\n",
       "[3944 rows x 6 columns]"
      ]
     },
     "execution_count": 3,
     "metadata": {},
     "output_type": "execute_result"
    }
   ],
   "source": [
    "f=pd.read_pickle('data/new/human.pkl')\n",
    "f"
   ]
  },
  {
   "cell_type": "code",
   "execution_count": null,
   "metadata": {},
   "outputs": [],
   "source": []
  }
 ],
 "metadata": {
  "kernelspec": {
   "display_name": "Python 3",
   "language": "python",
   "name": "python3"
  },
  "language_info": {
   "codemirror_mode": {
    "name": "ipython",
    "version": 3
   },
   "file_extension": ".py",
   "mimetype": "text/x-python",
   "name": "python",
   "nbconvert_exporter": "python",
   "pygments_lexer": "ipython3",
   "version": "3.6.4"
  }
 },
 "nbformat": 4,
 "nbformat_minor": 2
}
